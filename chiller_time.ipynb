{
 "cells": [
  {
   "cell_type": "code",
   "execution_count": null,
   "id": "competent-hospital",
   "metadata": {},
   "outputs": [],
   "source": [
    "# https://qiita.com/y_itoh/items/aaa2056aac0c270ba7d2"
   ]
  },
  {
   "cell_type": "code",
   "execution_count": 2,
   "id": "provincial-congo",
   "metadata": {},
   "outputs": [],
   "source": [
    "import pandas as pd"
   ]
  },
  {
   "cell_type": "code",
   "execution_count": 3,
   "id": "brilliant-legend",
   "metadata": {},
   "outputs": [
    {
     "data": {
      "text/html": [
       "<div>\n",
       "<style scoped>\n",
       "    .dataframe tbody tr th:only-of-type {\n",
       "        vertical-align: middle;\n",
       "    }\n",
       "\n",
       "    .dataframe tbody tr th {\n",
       "        vertical-align: top;\n",
       "    }\n",
       "\n",
       "    .dataframe thead th {\n",
       "        text-align: right;\n",
       "    }\n",
       "</style>\n",
       "<table border=\"1\" class=\"dataframe\">\n",
       "  <thead>\n",
       "    <tr style=\"text-align: right;\">\n",
       "      <th></th>\n",
       "      <th>残熱量</th>\n",
       "      <th>外気温</th>\n",
       "      <th>設定時間</th>\n",
       "      <th>利用</th>\n",
       "    </tr>\n",
       "  </thead>\n",
       "  <tbody>\n",
       "    <tr>\n",
       "      <th>0</th>\n",
       "      <td>30</td>\n",
       "      <td>18</td>\n",
       "      <td>7</td>\n",
       "      <td>1</td>\n",
       "    </tr>\n",
       "    <tr>\n",
       "      <th>1</th>\n",
       "      <td>30</td>\n",
       "      <td>17</td>\n",
       "      <td>7</td>\n",
       "      <td>1</td>\n",
       "    </tr>\n",
       "    <tr>\n",
       "      <th>2</th>\n",
       "      <td>20</td>\n",
       "      <td>33</td>\n",
       "      <td>7</td>\n",
       "      <td>1</td>\n",
       "    </tr>\n",
       "    <tr>\n",
       "      <th>3</th>\n",
       "      <td>25</td>\n",
       "      <td>26</td>\n",
       "      <td>7</td>\n",
       "      <td>1</td>\n",
       "    </tr>\n",
       "    <tr>\n",
       "      <th>4</th>\n",
       "      <td>22</td>\n",
       "      <td>25</td>\n",
       "      <td>7</td>\n",
       "      <td>1</td>\n",
       "    </tr>\n",
       "  </tbody>\n",
       "</table>\n",
       "</div>"
      ],
      "text/plain": [
       "   残熱量  外気温  設定時間  利用\n",
       "0   30   18     7   1\n",
       "1   30   17     7   1\n",
       "2   20   33     7   1\n",
       "3   25   26     7   1\n",
       "4   22   25     7   1"
      ]
     },
     "execution_count": 3,
     "metadata": {},
     "output_type": "execute_result"
    }
   ],
   "source": [
    "df = pd.read_csv('data_chiller.csv', encoding='utf-8')\n",
    "df.head()"
   ]
  },
  {
   "cell_type": "code",
   "execution_count": 4,
   "id": "limited-lingerie",
   "metadata": {},
   "outputs": [],
   "source": [
    "# 数値計算に必要なライブラリ\n",
    "import numpy as np\n",
    "\n",
    "# グラフを描画するパッケージ\n",
    "import matplotlib.pyplot as plt\n",
    "\n",
    "# 機械学習ライブラリscikit-learnの線形モデル\n",
    "from sklearn import linear_model"
   ]
  },
  {
   "cell_type": "code",
   "execution_count": 5,
   "id": "extensive-albany",
   "metadata": {},
   "outputs": [
    {
     "name": "stdout",
     "output_type": "stream",
     "text": [
      "   外気温  設定時間  利用\n",
      "0   18     7   1\n",
      "1   17     7   1\n",
      "2   33     7   1\n",
      "3   26     7   1\n",
      "4   25     7   1\n",
      "5   26     7   1\n",
      "6   17     7   1\n",
      "7   14     7   1\n",
      "8   15     7   1\n",
      "0    30\n",
      "1    30\n",
      "2    20\n",
      "3    25\n",
      "4    22\n",
      "5    21\n",
      "6    30\n",
      "7    35\n",
      "8    40\n",
      "Name: 残熱量, dtype: int64\n"
     ]
    }
   ],
   "source": [
    "# 目的変数のみ削除して変数Xに格納\n",
    "X = df.drop(\"残熱量\", axis=1)\n",
    "\n",
    "# 目的変数のみ抽出して変数Yに格納\n",
    "Y = df[\"残熱量\"]\n",
    "\n",
    "print(X)\n",
    "print(Y)"
   ]
  },
  {
   "cell_type": "code",
   "execution_count": 6,
   "id": "postal-installation",
   "metadata": {},
   "outputs": [],
   "source": [
    "model = linear_model.LinearRegression()"
   ]
  },
  {
   "cell_type": "code",
   "execution_count": 7,
   "id": "useful-sarah",
   "metadata": {},
   "outputs": [
    {
     "data": {
      "text/plain": [
       "LinearRegression()"
      ]
     },
     "execution_count": 7,
     "metadata": {},
     "output_type": "execute_result"
    }
   ],
   "source": [
    "model.fit(X,Y)"
   ]
  },
  {
   "cell_type": "code",
   "execution_count": 8,
   "id": "valuable-communication",
   "metadata": {},
   "outputs": [
    {
     "data": {
      "text/plain": [
       "array([-0.93344371,  0.        ,  0.        ])"
      ]
     },
     "execution_count": 8,
     "metadata": {},
     "output_type": "execute_result"
    }
   ],
   "source": [
    "model.coef_"
   ]
  },
  {
   "cell_type": "code",
   "execution_count": 9,
   "id": "happy-cloud",
   "metadata": {},
   "outputs": [
    {
     "data": {
      "text/html": [
       "<div>\n",
       "<style scoped>\n",
       "    .dataframe tbody tr th:only-of-type {\n",
       "        vertical-align: middle;\n",
       "    }\n",
       "\n",
       "    .dataframe tbody tr th {\n",
       "        vertical-align: top;\n",
       "    }\n",
       "\n",
       "    .dataframe thead th {\n",
       "        text-align: right;\n",
       "    }\n",
       "</style>\n",
       "<table border=\"1\" class=\"dataframe\">\n",
       "  <thead>\n",
       "    <tr style=\"text-align: right;\">\n",
       "      <th></th>\n",
       "      <th>係数</th>\n",
       "    </tr>\n",
       "  </thead>\n",
       "  <tbody>\n",
       "    <tr>\n",
       "      <th>外気温</th>\n",
       "      <td>-0.933444</td>\n",
       "    </tr>\n",
       "    <tr>\n",
       "      <th>設定時間</th>\n",
       "      <td>0.000000</td>\n",
       "    </tr>\n",
       "    <tr>\n",
       "      <th>勤務</th>\n",
       "      <td>0.000000</td>\n",
       "    </tr>\n",
       "  </tbody>\n",
       "</table>\n",
       "</div>"
      ],
      "text/plain": [
       "            係数\n",
       "外気温  -0.933444\n",
       "設定時間  0.000000\n",
       "勤務    0.000000"
      ]
     },
     "execution_count": 9,
     "metadata": {},
     "output_type": "execute_result"
    }
   ],
   "source": [
    "# 変数coefficientに係数の値を格納\n",
    "coefficient = model.coef_\n",
    "\n",
    "# データフレームに変換し、カラム名とインデックス名を指定\n",
    "df_coefficient = pd.DataFrame(coefficient,\n",
    "                              columns=[\"係数\"],\n",
    "                              index=[\"外気温\", \"設定時間\", \"勤務\"])\n",
    "df_coefficient"
   ]
  },
  {
   "cell_type": "code",
   "execution_count": 10,
   "id": "operating-coordination",
   "metadata": {},
   "outputs": [
    {
     "data": {
      "text/plain": [
       "47.920860927152304"
      ]
     },
     "execution_count": 10,
     "metadata": {},
     "output_type": "execute_result"
    }
   ],
   "source": [
    "model.intercept_"
   ]
  },
  {
   "cell_type": "code",
   "execution_count": 11,
   "id": "coastal-jonathan",
   "metadata": {},
   "outputs": [
    {
     "data": {
      "text/plain": [
       "0.8056882469594416"
      ]
     },
     "execution_count": 11,
     "metadata": {},
     "output_type": "execute_result"
    }
   ],
   "source": [
    "model.score(X, Y)"
   ]
  }
 ],
 "metadata": {
  "kernelspec": {
   "display_name": "Python 3",
   "language": "python",
   "name": "python3"
  },
  "language_info": {
   "codemirror_mode": {
    "name": "ipython",
    "version": 3
   },
   "file_extension": ".py",
   "mimetype": "text/x-python",
   "name": "python",
   "nbconvert_exporter": "python",
   "pygments_lexer": "ipython3",
   "version": "3.8.5"
  }
 },
 "nbformat": 4,
 "nbformat_minor": 5
}
