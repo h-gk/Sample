{
 "cells": [
  {
   "cell_type": "code",
   "execution_count": 1,
   "id": "naked-lunch",
   "metadata": {},
   "outputs": [],
   "source": [
    "import openpyxl\n",
    "import pandas as pd"
   ]
  },
  {
   "cell_type": "code",
   "execution_count": 2,
   "id": "hired-french",
   "metadata": {},
   "outputs": [],
   "source": [
    "#対象のエクセルファイルをオープン\n",
    "workbook_costdic = openpyxl.load_workbook('data_costdic.xlsx')\n",
    "sheet_costdic = workbook_costdic[\"data\"]"
   ]
  },
  {
   "cell_type": "code",
   "execution_count": 3,
   "id": "lined-incidence",
   "metadata": {},
   "outputs": [],
   "source": [
    "workbook_longterm = openpyxl.load_workbook('data_longterm.xlsx')\n",
    "sheet_longterm = workbook_longterm[\"data\"]"
   ]
  },
  {
   "cell_type": "code",
   "execution_count": 4,
   "id": "running-vintage",
   "metadata": {},
   "outputs": [],
   "source": [
    "#計算対象となる設備の行数分計算\n",
    "start_column = 19\n",
    "number_column = 100\n",
    "number_index = 300"
   ]
  },
  {
   "cell_type": "code",
   "execution_count": 5,
   "id": "handled-graham",
   "metadata": {},
   "outputs": [],
   "source": [
    "for j in range(2,number_index):\n",
    "\n",
    "    #更新年数の取得（設置年＋更新周期）\n",
    "    renewal_year = sheet_longterm.cell(j,15).value + sheet_longterm.cell(j,17).value\n",
    "\n",
    "    #更新年を記入\n",
    "    sheet_longterm.cell(j,18).value = renewal_year\n",
    "\n",
    "    #計算対象とする期間で計算\n",
    "    for i in range(start_column,start_column + number_column):\n",
    "\n",
    "        #更新費の算出\n",
    "        cost = sheet_longterm.cell(j,13).value * sheet_longterm.cell(j,16).value\n",
    "\n",
    "        #更新年が計算初年度を超過しているかを判定\n",
    "        if sheet_longterm.cell(1,19).value > renewal_year:\n",
    "\n",
    "            # 超過している場合は初年度に更新費を投入\n",
    "            sheet_longterm.cell(j,19).value = cost\n",
    "            \n",
    "            # 残り更新回数\n",
    "            renewal_times = number_column//sheet_longterm.cell(j,17).value\n",
    "\n",
    "            # 更新年に金額を記入\n",
    "            for k in range(1,renewal_times+1):\n",
    "                sheet_longterm.cell(j,19 + sheet_longterm.cell(j,17).value*k).value = cost\n",
    "\n",
    "            # 更新年以外に0を記入\n",
    "            for k in range(20,start_column + number_column):\n",
    "                if sheet_longterm.cell(j,k).value is None:\n",
    "                    sheet_longterm.cell(j,k).value = 0\n",
    "                    \n",
    "            break    \n",
    "\n",
    "        else:\n",
    "            # 残り更新回数\n",
    "            renewal_times = number_column//sheet_longterm.cell(j,17).value\n",
    "            \n",
    "            # 更新年数と計算対象年が一致すると記入\n",
    "            for k in range(0,renewal_times):\n",
    "                if sheet_longterm.cell(1,i).value == renewal_year + sheet_longterm.cell(j,17).value*k:\n",
    "                    sheet_longterm.cell(j,i).value = cost\n",
    "            \n",
    "            # 更新年以外に0を記入\n",
    "            for k in range(19,start_column + number_column):\n",
    "                if sheet_longterm.cell(j,k).value is None:\n",
    "                    sheet_longterm.cell(j,k).value = 0"
   ]
  },
  {
   "cell_type": "code",
   "execution_count": 6,
   "id": "tamil-niagara",
   "metadata": {},
   "outputs": [
    {
     "name": "stdout",
     "output_type": "stream",
     "text": [
      "None\n"
     ]
    }
   ],
   "source": [
    "print(sheet_longterm.cell(1,start_column + number_column).value)"
   ]
  },
  {
   "cell_type": "code",
   "execution_count": 7,
   "id": "silent-expense",
   "metadata": {},
   "outputs": [],
   "source": [
    "rebuilding_year = 2060\n",
    "rebuilding_cost = 9999\n",
    "\n",
    "for i in range(2,number_index):\n",
    "    \n",
    "    # 更新費の算出\n",
    "    cost = sheet_longterm.cell(i,13).value * sheet_longterm.cell(i,16).value\n",
    "\n",
    "    # 残更新回数\n",
    "    #renewal_times = sheet_longterm.cell(1,start_column + number_column).value - rebuilding_year\n",
    "    renewal_times = 10\n",
    "    \n",
    "    # 建替年に建設費を記入\n",
    "    for c in range(start_column,start_column + number_column):\n",
    "        if sheet_longterm.cell(1,c).value == rebuilding_year:\n",
    "            sheet_longterm.cell(i,c).value = rebuilding_cost\n",
    "    \n",
    "    # 建替以降の年数のコストを削除\n",
    "    for c in range(start_column,start_column + number_column):\n",
    "        if sheet_longterm.cell(1,c).value > rebuilding_year:\n",
    "            sheet_longterm.cell(i,c).value = None\n",
    "\n",
    "    # 建替年以降に更新費を記入    \n",
    "    for k in range(1, renewal_times):\n",
    "        for c in range(start_column,start_column + number_column):\n",
    "            if sheet_longterm.cell(1,c).value == rebuilding_year + sheet_longterm.cell(i,17).value*k:\n",
    "                sheet_longterm.cell(i,c).value = cost\n",
    "            \n",
    "    # 更新年以外に0を記入\n",
    "    for c in range(start_column,start_column + number_column):\n",
    "        if sheet_longterm.cell(i,c).value is None:\n",
    "            sheet_longterm.cell(i,c).value = 0"
   ]
  },
  {
   "cell_type": "code",
   "execution_count": 8,
   "id": "fresh-world",
   "metadata": {},
   "outputs": [],
   "source": [
    "workbook_longterm.save('toyo.xlsx')"
   ]
  }
 ],
 "metadata": {
  "kernelspec": {
   "display_name": "Python 3",
   "language": "python",
   "name": "python3"
  },
  "language_info": {
   "codemirror_mode": {
    "name": "ipython",
    "version": 3
   },
   "file_extension": ".py",
   "mimetype": "text/x-python",
   "name": "python",
   "nbconvert_exporter": "python",
   "pygments_lexer": "ipython3",
   "version": "3.8.5"
  }
 },
 "nbformat": 4,
 "nbformat_minor": 5
}
